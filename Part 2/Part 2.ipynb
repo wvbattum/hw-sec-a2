{
 "cells": [
  {
   "cell_type": "code",
   "execution_count": 349,
   "metadata": {},
   "outputs": [],
   "source": [
    "from pypuf.simulation import XORArbiterPUF\n",
    "from pypuf.io import random_inputs\n",
    "import pypuf.metrics as metrics\n",
    "from scipy.spatial.distance import hamming\n",
    "import numpy as np\n",
    "import matplotlib.pyplot as plt"
   ]
  },
  {
   "cell_type": "markdown",
   "metadata": {},
   "source": [
    "### Q1"
   ]
  },
  {
   "cell_type": "markdown",
   "metadata": {},
   "source": [
    "**1.**"
   ]
  },
  {
   "cell_type": "code",
   "execution_count": 350,
   "metadata": {},
   "outputs": [],
   "source": [
    "# ((5+6)%7)+2=6\n",
    "puf1 = XORArbiterPUF(n=64, k=6, noisiness=0.1, seed=1)\n",
    "puf2 = XORArbiterPUF(n=64, k=6, noisiness=0.1, seed=2)\n",
    "puf3 = XORArbiterPUF(n=64, k=6, noisiness=0.1, seed=3)\n",
    "puf4 = XORArbiterPUF(n=64, k=6, noisiness=0.1, seed=4)\n",
    "puf5 = XORArbiterPUF(n=64, k=6, noisiness=0.1, seed=5)\n",
    "puf6 = XORArbiterPUF(n=64, k=6, noisiness=0.1, seed=6)\n",
    "puf7 = XORArbiterPUF(n=64, k=6, noisiness=0.1, seed=7)\n",
    "puf8 = XORArbiterPUF(n=64, k=6, noisiness=0.1, seed=8)\n",
    "puf9 = XORArbiterPUF(n=64, k=6, noisiness=0.1, seed=9)\n",
    "puf10 = XORArbiterPUF(n=64, k=6, noisiness=0.1, seed=10)"
   ]
  },
  {
   "cell_type": "markdown",
   "metadata": {},
   "source": [
    "**2.**"
   ]
  },
  {
   "cell_type": "code",
   "execution_count": 351,
   "metadata": {},
   "outputs": [],
   "source": [
    "challenges = random_inputs(n=64, N=20000, seed=6)\n",
    "resp1 = np.zeros((20,20000))\n",
    "resp2 = np.zeros((20,20000))\n",
    "resp3 = np.zeros((20,20000))\n",
    "resp4 = np.zeros((20,20000))\n",
    "resp5 = np.zeros((20,20000))\n",
    "resp6 = np.zeros((20,20000))\n",
    "resp7 = np.zeros((20,20000))\n",
    "resp8 = np.zeros((20,20000))\n",
    "resp9 = np.zeros((20,20000))\n",
    "resp10 = np.zeros((20,20000))\n",
    "\n",
    "for i in range(20):\n",
    "    resp1[i] = puf1.eval(challenges)\n",
    "    resp2[i] = puf2.eval(challenges)\n",
    "    resp3[i] = puf3.eval(challenges)\n",
    "    resp4[i] = puf4.eval(challenges)\n",
    "    resp5[i] = puf5.eval(challenges)\n",
    "    resp6[i] = puf6.eval(challenges)\n",
    "    resp7[i] = puf7.eval(challenges)\n",
    "    resp8[i] = puf8.eval(challenges)\n",
    "    resp9[i] = puf9.eval(challenges)\n",
    "    resp10[i] = puf10.eval(challenges)\n",
    "\n",
    "responses = np.zeros((10,20,20000))\n",
    "responses[0] = resp1\n",
    "responses[1] = resp2\n",
    "responses[2] = resp3\n",
    "responses[3] = resp4\n",
    "responses[4] = resp5\n",
    "responses[5] = resp6\n",
    "responses[6] = resp7\n",
    "responses[7] = resp8\n",
    "responses[8] = resp9\n",
    "responses[9] = resp10\n",
    "\n",
    "responses[responses == -1] = 0"
   ]
  },
  {
   "cell_type": "markdown",
   "metadata": {},
   "source": [
    "**3.**"
   ]
  },
  {
   "cell_type": "code",
   "execution_count": 352,
   "metadata": {},
   "outputs": [],
   "source": [
    "np.savez_compressed('resp1.npz', resp1=resp1)\n",
    "np.savez_compressed('resp2.npz', resp2=resp2)\n",
    "np.savez_compressed('resp3.npz', resp3=resp3)\n",
    "np.savez_compressed('resp4.npz', resp4=resp4)\n",
    "np.savez_compressed('resp5.npz', resp5=resp5)\n",
    "np.savez_compressed('resp6.npz', resp6=resp6)\n",
    "np.savez_compressed('resp7.npz', resp7=resp7)\n",
    "np.savez_compressed('resp8.npz', resp8=resp8)\n",
    "np.savez_compressed('resp9.npz', resp9=resp9)\n",
    "np.savez_compressed('resp10.npz', resp10=resp10)"
   ]
  },
  {
   "cell_type": "markdown",
   "metadata": {},
   "source": [
    "### Q2"
   ]
  },
  {
   "cell_type": "markdown",
   "metadata": {},
   "source": [
    "**1.**"
   ]
  },
  {
   "cell_type": "code",
   "execution_count": 353,
   "metadata": {},
   "outputs": [],
   "source": [
    "def majority_voting(resps):\n",
    "    majority = np.zeros(20000)\n",
    "    for j in range(20000):\n",
    "        if list(resps[:15,j]).count(0) > list(resps[:15,j]).count(1):\n",
    "            majority[j] = 0\n",
    "        else:\n",
    "            majority[j] = 1\n",
    "\n",
    "    return majority"
   ]
  },
  {
   "cell_type": "code",
   "execution_count": 354,
   "metadata": {},
   "outputs": [],
   "source": [
    "gold_resps = np.zeros((10,20000))\n",
    "\n",
    "for i in range(10):\n",
    "    gold_resps[i] = majority_voting(responses[i])"
   ]
  },
  {
   "cell_type": "markdown",
   "metadata": {},
   "source": [
    "**2. Uniformity**"
   ]
  },
  {
   "cell_type": "code",
   "execution_count": 355,
   "metadata": {},
   "outputs": [
    {
     "name": "stdout",
     "output_type": "stream",
     "text": [
      "array([0.4974 , 0.5008 , 0.49775, 0.49985, 0.5003 , 0.50015, 0.50535,\n",
      "       0.4963 , 0.49485, 0.4991 ])\n",
      "0.49918499999999993\n"
     ]
    }
   ],
   "source": [
    "biases = np.zeros(10)\n",
    "\n",
    "for i in range(10):\n",
    "    biases[i] = metrics.bias_data(gold_resps[i])\n",
    "\n",
    "print(repr(biases))\n",
    "print(biases.mean())"
   ]
  },
  {
   "cell_type": "markdown",
   "metadata": {},
   "source": [
    "**3. Uniqueness**"
   ]
  },
  {
   "cell_type": "code",
   "execution_count": 356,
   "metadata": {},
   "outputs": [
    {
     "name": "stdout",
     "output_type": "stream",
     "text": [
      "array([0.42485211, 0.44834526, 0.44930421, 0.4204    , 0.42022947,\n",
      "       0.42661158, 0.42804   , 0.44929474, 0.45173368, 0.43744526])\n",
      "0.4356256315789474\n"
     ]
    },
    {
     "name": "stderr",
     "output_type": "stream",
     "text": [
      "/var/folders/_x/xwql_tr91b17l8t3g85mzyhw0000gn/T/ipykernel_21775/4136851843.py:3: DeprecationWarning: Conversion of an array with ndim > 0 to a scalar is deprecated, and will error in future. Ensure you extract a single element from your array before performing this operation. (Deprecated NumPy 1.25.)\n",
      "  uniqueness[i] = metrics.uniqueness_data(responses[i])\n"
     ]
    }
   ],
   "source": [
    "uniqueness = np.zeros(10)\n",
    "for i in range(10):\n",
    "    uniqueness[i] = metrics.uniqueness_data(responses[i])\n",
    "print(repr(uniqueness))\n",
    "print(uniqueness.mean())"
   ]
  },
  {
   "cell_type": "code",
   "execution_count": 357,
   "metadata": {},
   "outputs": [],
   "source": [
    "hds = np.zeros(45)\n",
    "\n",
    "hds[0] = hamming(gold_resps[0], gold_resps[1])\n",
    "hds[1] = hamming(gold_resps[0], gold_resps[2])\n",
    "hds[2] = hamming(gold_resps[0], gold_resps[3])\n",
    "hds[3] = hamming(gold_resps[0], gold_resps[4])\n",
    "hds[4] = hamming(gold_resps[0], gold_resps[5])\n",
    "hds[5] = hamming(gold_resps[0], gold_resps[6])\n",
    "hds[6] = hamming(gold_resps[0], gold_resps[7])\n",
    "hds[7] = hamming(gold_resps[0], gold_resps[8])\n",
    "hds[8] = hamming(gold_resps[0], gold_resps[9])\n",
    "hds[9] = hamming(gold_resps[1], gold_resps[2])\n",
    "hds[10] = hamming(gold_resps[1], gold_resps[3])\n",
    "hds[11] = hamming(gold_resps[1], gold_resps[4])\n",
    "hds[12] = hamming(gold_resps[1], gold_resps[5])\n",
    "hds[13] = hamming(gold_resps[1], gold_resps[6])\n",
    "hds[14] = hamming(gold_resps[1], gold_resps[7])\n",
    "hds[15] = hamming(gold_resps[1], gold_resps[8])\n",
    "hds[16] = hamming(gold_resps[1], gold_resps[9])\n",
    "hds[17] = hamming(gold_resps[2], gold_resps[3])\n",
    "hds[18] = hamming(gold_resps[2], gold_resps[4])\n",
    "hds[19] = hamming(gold_resps[2], gold_resps[5])\n",
    "hds[20] = hamming(gold_resps[2], gold_resps[6])\n",
    "hds[21] = hamming(gold_resps[2], gold_resps[7])\n",
    "hds[22] = hamming(gold_resps[2], gold_resps[8])\n",
    "hds[23] = hamming(gold_resps[2], gold_resps[9])\n",
    "hds[24] = hamming(gold_resps[3], gold_resps[4])\n",
    "hds[25] = hamming(gold_resps[3], gold_resps[5])\n",
    "hds[26] = hamming(gold_resps[3], gold_resps[6])\n",
    "hds[27] = hamming(gold_resps[3], gold_resps[7])\n",
    "hds[28] = hamming(gold_resps[3], gold_resps[8])\n",
    "hds[29] = hamming(gold_resps[3], gold_resps[9])\n",
    "hds[30] = hamming(gold_resps[4], gold_resps[5])\n",
    "hds[31] = hamming(gold_resps[4], gold_resps[6])\n",
    "hds[32] = hamming(gold_resps[4], gold_resps[7])\n",
    "hds[33] = hamming(gold_resps[4], gold_resps[8])\n",
    "hds[34] = hamming(gold_resps[4], gold_resps[9])\n",
    "hds[35] = hamming(gold_resps[5], gold_resps[6])\n",
    "hds[36] = hamming(gold_resps[5], gold_resps[7])\n",
    "hds[37] = hamming(gold_resps[5], gold_resps[8])\n",
    "hds[38] = hamming(gold_resps[5], gold_resps[9])\n",
    "hds[39] = hamming(gold_resps[6], gold_resps[7])\n",
    "hds[40] = hamming(gold_resps[6], gold_resps[8])\n",
    "hds[41] = hamming(gold_resps[6], gold_resps[9])\n",
    "hds[42] = hamming(gold_resps[7], gold_resps[8])\n",
    "hds[43] = hamming(gold_resps[7], gold_resps[9])\n",
    "hds[44] = hamming(gold_resps[8], gold_resps[9])"
   ]
  },
  {
   "cell_type": "code",
   "execution_count": 362,
   "metadata": {},
   "outputs": [],
   "source": [
    "plt.figure()\n",
    "plt.hist(hds)\n",
    "plt.xlabel('Hamming Distance')\n",
    "plt.ylabel('Frequency')\n",
    "plt.title('Hamming Distance Between PUFs')\n",
    "plt.savefig('./imgs/uniqueness.png', bbox_inches='tight')\n",
    "plt.close()"
   ]
  },
  {
   "cell_type": "markdown",
   "metadata": {},
   "source": [
    "**4. Reliability**"
   ]
  },
  {
   "cell_type": "code",
   "execution_count": 363,
   "metadata": {},
   "outputs": [],
   "source": [
    "hds = np.zeros(20)\n",
    "\n",
    "for j in range(10):\n",
    "    for i in range(20):\n",
    "        hds[i] = hamming(responses[j][i], gold_resps[j])\n",
    "    f = plt.figure(j+1)\n",
    "    plt.hist(hds)\n",
    "    plt.xlabel('Hamming distance')\n",
    "    plt.ylabel('Frequency')\n",
    "    plt.title('Reliability histogram of PUF ' + str(j+1))\n",
    "    plt.savefig('./imgs/reliability' + str(j+1) + '.png', bbox_inches='tight')\n",
    "    plt.close(f)"
   ]
  },
  {
   "cell_type": "markdown",
   "metadata": {},
   "source": [
    "### Q3"
   ]
  },
  {
   "cell_type": "markdown",
   "metadata": {},
   "source": [
    "**1.**"
   ]
  },
  {
   "cell_type": "code",
   "execution_count": 376,
   "metadata": {},
   "outputs": [],
   "source": [
    "def majority_voting_parts(resps):\n",
    "    majority_5 = np.zeros(20000)\n",
    "    majority_15 = np.zeros(20000)\n",
    "    majority_25 = np.zeros(20000)\n",
    "    for j in range(20000):\n",
    "        if list(resps[:5,j]).count(0) > list(resps[:5,j]).count(1):\n",
    "            majority_5[j] = 0\n",
    "        else:\n",
    "            majority_5[j] = 1\n",
    "        if list(resps[:15,j]).count(0) > list(resps[:15,j]).count(1):\n",
    "            majority_15[j] = 0\n",
    "        else:\n",
    "            majority_15[j] = 1\n",
    "        if list(resps[:25,j]).count(0) > list(resps[:25,j]).count(1):\n",
    "            majority_25[j] = 0\n",
    "        else:\n",
    "            majority_25[j] = 1\n",
    "\n",
    "    return majority_5, majority_15, majority_25"
   ]
  },
  {
   "cell_type": "code",
   "execution_count": 387,
   "metadata": {},
   "outputs": [],
   "source": [
    "expanded_responses = np.zeros((10,25,20000))\n",
    "for i in range(10):\n",
    "    expanded_responses[i,:20] = responses[i]\n",
    "\n",
    "for i in range(20,25):\n",
    "    expanded_responses[0][i] = puf1.eval(challenges)\n",
    "    expanded_responses[1][i] = puf2.eval(challenges)\n",
    "    expanded_responses[2][i] = puf3.eval(challenges)\n",
    "    expanded_responses[3][i] = puf4.eval(challenges)\n",
    "    expanded_responses[4][i] = puf5.eval(challenges)\n",
    "    expanded_responses[5][i] = puf6.eval(challenges)\n",
    "    expanded_responses[6][i] = puf7.eval(challenges)\n",
    "    expanded_responses[7][i] = puf8.eval(challenges)\n",
    "    expanded_responses[8][i] = puf9.eval(challenges)\n",
    "    expanded_responses[9][i] = puf10.eval(challenges)\n",
    "\n",
    "for i in range(10):\n",
    "    expanded_responses[i][expanded_responses[i] == -1] = 0"
   ]
  },
  {
   "cell_type": "markdown",
   "metadata": {},
   "source": [
    "**2.**"
   ]
  },
  {
   "cell_type": "code",
   "execution_count": 385,
   "metadata": {},
   "outputs": [
    {
     "name": "stdout",
     "output_type": "stream",
     "text": [
      "Puf 1 HD_5: 0.07525 HD_15: 0.0 HD_25: 0.038\n",
      "\n",
      "Puf 2 HD_5: 0.082 HD_15: 0.0 HD_25: 0.04195\n",
      "\n",
      "Puf 3 HD_5: 0.0835 HD_15: 0.0 HD_25: 0.0426\n",
      "\n",
      "Puf 4 HD_5: 0.07425 HD_15: 0.0 HD_25: 0.0379\n",
      "\n",
      "Puf 5 HD_5: 0.07185 HD_15: 0.0 HD_25: 0.03625\n",
      "\n",
      "Puf 6 HD_5: 0.0768 HD_15: 0.0 HD_25: 0.0375\n",
      "\n",
      "Puf 7 HD_5: 0.0769 HD_15: 0.0 HD_25: 0.03935\n",
      "\n",
      "Puf 8 HD_5: 0.0818 HD_15: 0.0 HD_25: 0.04215\n",
      "\n",
      "Puf 9 HD_5: 0.08315 HD_15: 0.0 HD_25: 0.0433\n",
      "\n",
      "Puf 10 HD_5: 0.07935 HD_15: 0.0 HD_25: 0.04215\n",
      "\n"
     ]
    }
   ],
   "source": [
    "for i in range(10):\n",
    "    majority_5, majority_15, majority_25 = majority_voting_parts(expanded_responses[i])\n",
    "    hd5 = hamming(majority_5, gold_resps[i])\n",
    "    hd15 = hamming(majority_15, gold_resps[i])\n",
    "    hd25 = hamming(majority_25, gold_resps[i])\n",
    "    print('Puf ' + str(i+1) + ' HD_5: ' + str(hd5) + ' HD_15: ' + str(hd15) + ' HD_25: ' + str(hd25) + '\\n')"
   ]
  }
 ],
 "metadata": {
  "kernelspec": {
   "display_name": ".venv",
   "language": "python",
   "name": "python3"
  },
  "language_info": {
   "codemirror_mode": {
    "name": "ipython",
    "version": 3
   },
   "file_extension": ".py",
   "mimetype": "text/x-python",
   "name": "python",
   "nbconvert_exporter": "python",
   "pygments_lexer": "ipython3",
   "version": "3.11.2"
  }
 },
 "nbformat": 4,
 "nbformat_minor": 2
}
