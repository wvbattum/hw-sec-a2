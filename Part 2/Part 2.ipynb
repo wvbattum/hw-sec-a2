{
 "cells": [
  {
   "cell_type": "code",
   "execution_count": 19,
   "metadata": {},
   "outputs": [],
   "source": [
    "from pypuf.simulation import XORArbiterPUF\n",
    "from pypuf.io import random_inputs\n",
    "from pypuf.metrics import bias_data, bias\n",
    "from scipy.spatial.distance import hamming\n",
    "import numpy as np\n",
    "import matplotlib.pyplot as plt"
   ]
  },
  {
   "cell_type": "markdown",
   "metadata": {},
   "source": [
    "### Q1"
   ]
  },
  {
   "cell_type": "markdown",
   "metadata": {},
   "source": [
    "**1.**"
   ]
  },
  {
   "cell_type": "code",
   "execution_count": 20,
   "metadata": {},
   "outputs": [],
   "source": [
    "# ((5+6)%7)+2=6\n",
    "puf1 = XORArbiterPUF(n=64, k=6, noisiness=0.1)\n",
    "puf2 = XORArbiterPUF(n=64, k=6, noisiness=0.1)\n",
    "puf3 = XORArbiterPUF(n=64, k=6, noisiness=0.1)\n",
    "puf4 = XORArbiterPUF(n=64, k=6, noisiness=0.1)\n",
    "puf5 = XORArbiterPUF(n=64, k=6, noisiness=0.1)\n",
    "puf6 = XORArbiterPUF(n=64, k=6, noisiness=0.1)\n",
    "puf7 = XORArbiterPUF(n=64, k=6, noisiness=0.1)\n",
    "puf8 = XORArbiterPUF(n=64, k=6, noisiness=0.1)\n",
    "puf9 = XORArbiterPUF(n=64, k=6, noisiness=0.1)\n",
    "puf10 = XORArbiterPUF(n=64, k=6, noisiness=0.1)"
   ]
  },
  {
   "cell_type": "markdown",
   "metadata": {},
   "source": [
    "**2.**"
   ]
  },
  {
   "cell_type": "code",
   "execution_count": 21,
   "metadata": {},
   "outputs": [],
   "source": [
    "challenges = random_inputs(n=64, N=20000, seed=12)\n",
    "resp1 = np.zeros((20,20000))\n",
    "resp2 = np.zeros((20,20000))\n",
    "resp3 = np.zeros((20,20000))\n",
    "resp4 = np.zeros((20,20000))\n",
    "resp5 = np.zeros((20,20000))\n",
    "resp6 = np.zeros((20,20000))\n",
    "resp7 = np.zeros((20,20000))\n",
    "resp8 = np.zeros((20,20000))\n",
    "resp9 = np.zeros((20,20000))\n",
    "resp10 = np.zeros((20,20000))\n",
    "\n",
    "for i in range(20):\n",
    "    resp1[i] = puf1.eval(challenges)\n",
    "    resp2[i] = puf2.eval(challenges)\n",
    "    resp3[i] = puf3.eval(challenges)\n",
    "    resp4[i] = puf4.eval(challenges)\n",
    "    resp5[i] = puf5.eval(challenges)\n",
    "    resp6[i] = puf6.eval(challenges)\n",
    "    resp7[i] = puf7.eval(challenges)\n",
    "    resp8[i] = puf8.eval(challenges)\n",
    "    resp9[i] = puf9.eval(challenges)\n",
    "    resp10[i] = puf10.eval(challenges)"
   ]
  },
  {
   "cell_type": "markdown",
   "metadata": {},
   "source": [
    "**3.**"
   ]
  },
  {
   "cell_type": "code",
   "execution_count": 22,
   "metadata": {},
   "outputs": [],
   "source": [
    "np.savez_compressed('resp1.npz', resp1=resp1)\n",
    "np.savez_compressed('resp2.npz', resp2=resp2)\n",
    "np.savez_compressed('resp3.npz', resp3=resp3)\n",
    "np.savez_compressed('resp4.npz', resp4=resp4)\n",
    "np.savez_compressed('resp5.npz', resp5=resp5)\n",
    "np.savez_compressed('resp6.npz', resp6=resp6)\n",
    "np.savez_compressed('resp7.npz', resp7=resp7)\n",
    "np.savez_compressed('resp8.npz', resp8=resp8)\n",
    "np.savez_compressed('resp9.npz', resp9=resp9)\n",
    "np.savez_compressed('resp10.npz', resp10=resp10)"
   ]
  },
  {
   "cell_type": "markdown",
   "metadata": {},
   "source": [
    "### Q2"
   ]
  },
  {
   "cell_type": "markdown",
   "metadata": {},
   "source": [
    "**1.**"
   ]
  },
  {
   "cell_type": "code",
   "execution_count": 23,
   "metadata": {},
   "outputs": [],
   "source": [
    "def majority_voting(resps):\n",
    "    majority = np.zeros(20000)\n",
    "    for j in range(20000):\n",
    "        if list(resps[:15,j]).count(-1) > list(resps[:15,j]).count(1):\n",
    "            majority[j] = -1\n",
    "        else:\n",
    "            majority[j] = 1"
   ]
  },
  {
   "cell_type": "code",
   "execution_count": 24,
   "metadata": {},
   "outputs": [],
   "source": [
    "\n",
    "insts = np.zeros((10,20000))\n",
    "\n",
    "insts[0] = majority_voting(resp1)\n",
    "insts[1] = majority_voting(resp2)\n",
    "insts[2] = majority_voting(resp3)\n",
    "insts[3] = majority_voting(resp4)\n",
    "insts[4] = majority_voting(resp5)\n",
    "insts[5] = majority_voting(resp6)\n",
    "insts[6] = majority_voting(resp7)\n",
    "insts[7] = majority_voting(resp8)\n",
    "insts[8] = majority_voting(resp9)\n",
    "insts[9] = majority_voting(resp10)\n",
    "\n",
    "\n",
    "golden_response = np.median(insts, axis=0) \n"
   ]
  },
  {
   "cell_type": "markdown",
   "metadata": {},
   "source": [
    "**2.**"
   ]
  },
  {
   "cell_type": "code",
   "execution_count": 27,
   "metadata": {},
   "outputs": [
    {
     "name": "stdout",
     "output_type": "stream",
     "text": [
      "0.018\n"
     ]
    }
   ],
   "source": [
    "uniformity = np.zeros(10)\n",
    "bias1 = bias(puf1)\n",
    "\n",
    "print(bias1)"
   ]
  }
 ],
 "metadata": {
  "kernelspec": {
   "display_name": ".venv",
   "language": "python",
   "name": "python3"
  },
  "language_info": {
   "codemirror_mode": {
    "name": "ipython",
    "version": 3
   },
   "file_extension": ".py",
   "mimetype": "text/x-python",
   "name": "python",
   "nbconvert_exporter": "python",
   "pygments_lexer": "ipython3",
   "version": "3.11.2"
  }
 },
 "nbformat": 4,
 "nbformat_minor": 2
}
