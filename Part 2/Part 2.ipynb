{
 "cells": [
  {
   "cell_type": "code",
   "execution_count": 39,
   "metadata": {},
   "outputs": [
    {
     "ename": "ImportError",
     "evalue": "cannot import name 'bias' from 'pypuf.metrics' (/Users/wouter/Documents/Uni/Master/Jaar 2/STHS/A2/.venv/lib/python3.11/site-packages/pypuf/metrics/__init__.py)",
     "output_type": "error",
     "traceback": [
      "\u001b[0;31m---------------------------------------------------------------------------\u001b[0m",
      "\u001b[0;31mImportError\u001b[0m                               Traceback (most recent call last)",
      "Cell \u001b[0;32mIn[39], line 3\u001b[0m\n\u001b[1;32m      1\u001b[0m \u001b[38;5;28;01mfrom\u001b[39;00m \u001b[38;5;21;01mpypuf\u001b[39;00m\u001b[38;5;21;01m.\u001b[39;00m\u001b[38;5;21;01msimulation\u001b[39;00m \u001b[38;5;28;01mimport\u001b[39;00m XORArbiterPUF\n\u001b[1;32m      2\u001b[0m \u001b[38;5;28;01mfrom\u001b[39;00m \u001b[38;5;21;01mpypuf\u001b[39;00m\u001b[38;5;21;01m.\u001b[39;00m\u001b[38;5;21;01mio\u001b[39;00m \u001b[38;5;28;01mimport\u001b[39;00m random_inputs\n\u001b[0;32m----> 3\u001b[0m \u001b[38;5;28;01mfrom\u001b[39;00m \u001b[38;5;21;01mpypuf\u001b[39;00m\u001b[38;5;21;01m.\u001b[39;00m\u001b[38;5;21;01mmetrics\u001b[39;00m \u001b[38;5;28;01mimport\u001b[39;00m bias\n\u001b[1;32m      4\u001b[0m \u001b[38;5;28;01mfrom\u001b[39;00m \u001b[38;5;21;01mscipy\u001b[39;00m\u001b[38;5;21;01m.\u001b[39;00m\u001b[38;5;21;01mspatial\u001b[39;00m\u001b[38;5;21;01m.\u001b[39;00m\u001b[38;5;21;01mdistance\u001b[39;00m \u001b[38;5;28;01mimport\u001b[39;00m hamming\n\u001b[1;32m      5\u001b[0m \u001b[38;5;28;01mimport\u001b[39;00m \u001b[38;5;21;01mnumpy\u001b[39;00m \u001b[38;5;28;01mas\u001b[39;00m \u001b[38;5;21;01mnp\u001b[39;00m\n",
      "\u001b[0;31mImportError\u001b[0m: cannot import name 'bias' from 'pypuf.metrics' (/Users/wouter/Documents/Uni/Master/Jaar 2/STHS/A2/.venv/lib/python3.11/site-packages/pypuf/metrics/__init__.py)"
     ]
    }
   ],
   "source": [
    "from pypuf.simulation import XORArbiterPUF\n",
    "from pypuf.io import random_inputs\n",
    "from pypuf.metrics import bias\n",
    "from scipy.spatial.distance import hamming\n",
    "import numpy as np\n",
    "import matplotlib.pyplot as plt"
   ]
  },
  {
   "cell_type": "markdown",
   "metadata": {},
   "source": [
    "### Q1"
   ]
  },
  {
   "cell_type": "markdown",
   "metadata": {},
   "source": [
    "**1.**"
   ]
  },
  {
   "cell_type": "code",
   "execution_count": 15,
   "metadata": {},
   "outputs": [],
   "source": [
    "# ((5+6)%7)+2=6\n",
    "puf1 = XORArbiterPUF(n=64, k=6, noisiness=0.1)\n",
    "puf2 = XORArbiterPUF(n=64, k=6, noisiness=0.1)\n",
    "puf3 = XORArbiterPUF(n=64, k=6, noisiness=0.1)\n",
    "puf4 = XORArbiterPUF(n=64, k=6, noisiness=0.1)\n",
    "puf5 = XORArbiterPUF(n=64, k=6, noisiness=0.1)\n",
    "puf6 = XORArbiterPUF(n=64, k=6, noisiness=0.1)\n",
    "puf7 = XORArbiterPUF(n=64, k=6, noisiness=0.1)\n",
    "puf8 = XORArbiterPUF(n=64, k=6, noisiness=0.1)\n",
    "puf9 = XORArbiterPUF(n=64, k=6, noisiness=0.1)\n",
    "puf10 = XORArbiterPUF(n=64, k=6, noisiness=0.1)"
   ]
  },
  {
   "cell_type": "markdown",
   "metadata": {},
   "source": [
    "**2.**"
   ]
  },
  {
   "cell_type": "code",
   "execution_count": 30,
   "metadata": {},
   "outputs": [],
   "source": [
    "challenges = random_inputs(n=64, N=20000, seed=12)\n",
    "resp1 = np.zeros((20,20000))\n",
    "resp2 = np.zeros((20,20000))\n",
    "resp3 = np.zeros((20,20000))\n",
    "resp4 = np.zeros((20,20000))\n",
    "resp5 = np.zeros((20,20000))\n",
    "resp6 = np.zeros((20,20000))\n",
    "resp7 = np.zeros((20,20000))\n",
    "resp8 = np.zeros((20,20000))\n",
    "resp9 = np.zeros((20,20000))\n",
    "resp10 = np.zeros((20,20000))\n",
    "\n",
    "for i in range(20):\n",
    "    resp1[i] = puf1.eval(challenges)\n",
    "    resp2[i] = puf2.eval(challenges)\n",
    "    resp3[i] = puf3.eval(challenges)\n",
    "    resp4[i] = puf4.eval(challenges)\n",
    "    resp5[i] = puf5.eval(challenges)\n",
    "    resp6[i] = puf6.eval(challenges)\n",
    "    resp7[i] = puf7.eval(challenges)\n",
    "    resp8[i] = puf8.eval(challenges)\n",
    "    resp9[i] = puf9.eval(challenges)\n",
    "    resp10[i] = puf10.eval(challenges)"
   ]
  },
  {
   "cell_type": "markdown",
   "metadata": {},
   "source": [
    "**3.**"
   ]
  },
  {
   "cell_type": "code",
   "execution_count": 17,
   "metadata": {},
   "outputs": [],
   "source": [
    "np.savez_compressed('resp1.npz', resp1=resp1)\n",
    "np.savez_compressed('resp2.npz', resp2=resp2)\n",
    "np.savez_compressed('resp3.npz', resp3=resp3)\n",
    "np.savez_compressed('resp4.npz', resp4=resp4)\n",
    "np.savez_compressed('resp5.npz', resp5=resp5)\n",
    "np.savez_compressed('resp6.npz', resp6=resp6)\n",
    "np.savez_compressed('resp7.npz', resp7=resp7)\n",
    "np.savez_compressed('resp8.npz', resp8=resp8)\n",
    "np.savez_compressed('resp9.npz', resp9=resp9)\n",
    "np.savez_compressed('resp10.npz', resp10=resp10)"
   ]
  },
  {
   "cell_type": "markdown",
   "metadata": {},
   "source": [
    "### Q2"
   ]
  },
  {
   "cell_type": "markdown",
   "metadata": {},
   "source": [
    "**1.**"
   ]
  },
  {
   "cell_type": "code",
   "execution_count": 27,
   "metadata": {},
   "outputs": [],
   "source": [
    "goldPUF = XORArbiterPUF(n=64, k=6, noisiness=0.1)\n",
    "\n",
    "measurements = np.zeros((15,20000))\n",
    "\n",
    "for i in range(15):\n",
    "    measurements[i] = goldPUF.eval(challenges)\n",
    "\n",
    "golden_response = np.median(measurements, axis=0) \n"
   ]
  },
  {
   "cell_type": "markdown",
   "metadata": {},
   "source": [
    "**2.**"
   ]
  },
  {
   "cell_type": "code",
   "execution_count": 36,
   "metadata": {},
   "outputs": [
    {
     "ename": "AttributeError",
     "evalue": "module 'pypuf.metrics' has no attribute 'bias'",
     "output_type": "error",
     "traceback": [
      "\u001b[0;31m---------------------------------------------------------------------------\u001b[0m",
      "\u001b[0;31mAttributeError\u001b[0m                            Traceback (most recent call last)",
      "Cell \u001b[0;32mIn[36], line 1\u001b[0m\n\u001b[0;32m----> 1\u001b[0m \u001b[43mmetrics\u001b[49m\u001b[38;5;241;43m.\u001b[39;49m\u001b[43mbias\u001b[49m(golden_response, resp1[\u001b[38;5;241m0\u001b[39m])\n",
      "\u001b[0;31mAttributeError\u001b[0m: module 'pypuf.metrics' has no attribute 'bias'"
     ]
    }
   ],
   "source": [
    "metrics.bias(golden_response, resp1[0])"
   ]
  }
 ],
 "metadata": {
  "kernelspec": {
   "display_name": ".venv",
   "language": "python",
   "name": "python3"
  },
  "language_info": {
   "codemirror_mode": {
    "name": "ipython",
    "version": 3
   },
   "file_extension": ".py",
   "mimetype": "text/x-python",
   "name": "python",
   "nbconvert_exporter": "python",
   "pygments_lexer": "ipython3",
   "version": "3.11.2"
  }
 },
 "nbformat": 4,
 "nbformat_minor": 2
}
